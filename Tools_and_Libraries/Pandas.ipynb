{
 "metadata": {
  "language_info": {
   "codemirror_mode": {
    "name": "ipython",
    "version": 3
   },
   "file_extension": ".py",
   "mimetype": "text/x-python",
   "name": "python",
   "nbconvert_exporter": "python",
   "pygments_lexer": "ipython3",
   "version": "3.8.5-final"
  },
  "orig_nbformat": 2,
  "kernelspec": {
   "name": "python3",
   "display_name": "Python 3.8.5 64-bit",
   "metadata": {
    "interpreter": {
     "hash": "1856ec6dd477017722797095c6ce9a7579be817b1b8fa68a2f5093493d4d5b5c"
    }
   }
  }
 },
 "nbformat": 4,
 "nbformat_minor": 2,
 "cells": [
  {
   "cell_type": "code",
   "execution_count": 3,
   "metadata": {},
   "outputs": [],
   "source": [
    "import pandas as pd"
   ]
  },
  {
   "source": [
    "The goal of this notebook is to be a reference for myself to more readily understand the practical components of each of the main functions that Pandas offers in addition to the additonal parameters. I intend to make a series of these for each of the major libraries that I have studied. Any field that requires an input will always be named as \"finp\" (function input) so as not to be confused for any other parameter or prenamed field. finp will be accompanied by any '' or .txt extensions to make it clear that finp is purely the given name of the file and everything else is required syntax for proper usage of that function"
   ],
   "cell_type": "markdown",
   "metadata": {}
  },
  {
   "source": [
    "# Pandas Library Functions"
   ],
   "cell_type": "markdown",
   "metadata": {}
  },
  {
   "source": [
    "## pd.DataFrame(finp)"
   ],
   "cell_type": "markdown",
   "metadata": {}
  },
  {
   "source": [
    "A dataframe is the most common data structure that pandas works with in that it is the representation of an array using an index to locate specific rows. The input for this function can be an array that may or may not have labeled columns or a dictionary where the keys are the columns. There are some other parameters that can be specified to change some of these features."
   ],
   "cell_type": "markdown",
   "metadata": {}
  },
  {
   "source": [
    "## pd.read_csv('finp.csv')"
   ],
   "cell_type": "markdown",
   "metadata": {}
  },
  {
   "source": [
    "This function converts a csv file into a dataframe. Make sure to save it to a new alias so that you can use it later! This function is also compatible with .txt files"
   ],
   "cell_type": "markdown",
   "metadata": {}
  }
 ]
}