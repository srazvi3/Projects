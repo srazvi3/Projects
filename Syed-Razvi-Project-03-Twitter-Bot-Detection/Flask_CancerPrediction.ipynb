{
 "cells": [
  {
   "cell_type": "code",
   "execution_count": 7,
   "metadata": {
    "collapsed": false
   },
   "outputs": [],
   "source": [
    "import flask\n",
    "from sklearn.linear_model import LogisticRegression\n",
    "import numpy as np\n",
    "import pandas as pd"
   ]
  },
  {
   "cell_type": "code",
   "execution_count": 8,
   "metadata": {
    "collapsed": true
   },
   "outputs": [],
   "source": [
    "#---------- MODEL IN MEMORY ----------------#\n",
    "\n",
    "# Read the scientific data on breast cancer survival,\n",
    "# Build a LogisticRegression predictor on it\n",
    "patients = pd.read_csv(\"haberman.data\", header=None)\n",
    "patients.columns = ['age', 'year', 'nodes', 'survived']\n",
    "# The value 2 means death in 5 years, update to more common 0\n",
    "patients = patients.replace(2, 0)\n",
    "\n",
    "X = patients[['age', 'year', 'nodes']]\n",
    "Y = patients['survived']\n",
    "PREDICTOR = LogisticRegression().fit(X, Y)"
   ]
  },
  {
   "cell_type": "code",
   "execution_count": 9,
   "metadata": {
    "collapsed": false
   },
   "outputs": [],
   "source": [
    "# Initialize the app\n",
    "app = flask.Flask(__name__)\n",
    "\n",
    "# Homepage\n",
    "@app.route(\"/\")\n",
    "def viz_page():\n",
    "    \"\"\"\n",
    "    Homepage: serve our visualization page, awesome.html\n",
    "    \"\"\"\n",
    "    with open(\"awesome.html\", 'r') as viz_file:\n",
    "        return viz_file.read()"
   ]
  },
  {
   "cell_type": "code",
   "execution_count": 10,
   "metadata": {
    "collapsed": false
   },
   "outputs": [],
   "source": [
    "\n",
    "\n",
    "#---------- URLS AND WEB PAGES -------------#\n",
    "\n",
    "\n",
    "\n",
    "# Get an example and return it's score from the predictor model\n",
    "@app.route(\"/score\", methods=[\"POST\"])\n",
    "def score():\n",
    "    \"\"\"\n",
    "    When A POST request with json data is made to this uri,\n",
    "    Read the example from the json, predict probability and\n",
    "    send it with a response\n",
    "    \"\"\"\n",
    "    # Get decision score for our example that came with the request\n",
    "    data = flask.request.json\n",
    "    x = np.matrix(data[\"example\"])\n",
    "    score = PREDICTOR.predict_proba(x)\n",
    "    # Put the result in a nice dict so we can send it as json\n",
    "    results = {\"score\": score[0, 1]}\n",
    "    return flask.jsonify(results)"
   ]
  },
  {
   "cell_type": "code",
   "execution_count": null,
   "metadata": {
    "collapsed": false
   },
   "outputs": [
    {
     "name": "stderr",
     "output_type": "stream",
     "text": [
      " * Running on http://127.0.0.1:5000/ (Press CTRL+C to quit)\n",
      "127.0.0.1 - - [24/Oct/2019 11:56:42] \"GET / HTTP/1.1\" 200 -\n",
      "127.0.0.1 - - [24/Oct/2019 11:56:51] \"POST /score HTTP/1.1\" 200 -\n",
      "127.0.0.1 - - [24/Oct/2019 11:56:51] \"POST /score HTTP/1.1\" 200 -\n",
      "127.0.0.1 - - [24/Oct/2019 11:56:51] \"POST /score HTTP/1.1\" 200 -\n",
      "127.0.0.1 - - [24/Oct/2019 11:56:51] \"POST /score HTTP/1.1\" 200 -\n",
      "127.0.0.1 - - [24/Oct/2019 11:56:51] \"POST /score HTTP/1.1\" 200 -\n",
      "127.0.0.1 - - [24/Oct/2019 11:56:51] \"POST /score HTTP/1.1\" 200 -\n",
      "127.0.0.1 - - [24/Oct/2019 11:56:51] \"POST /score HTTP/1.1\" 200 -\n",
      "127.0.0.1 - - [24/Oct/2019 11:56:51] \"POST /score HTTP/1.1\" 200 -\n",
      "127.0.0.1 - - [24/Oct/2019 11:56:51] \"POST /score HTTP/1.1\" 200 -\n",
      "127.0.0.1 - - [24/Oct/2019 11:56:52] \"POST /score HTTP/1.1\" 200 -\n",
      "127.0.0.1 - - [24/Oct/2019 11:56:52] \"POST /score HTTP/1.1\" 200 -\n",
      "127.0.0.1 - - [24/Oct/2019 11:56:52] \"POST /score HTTP/1.1\" 200 -\n",
      "127.0.0.1 - - [24/Oct/2019 11:56:52] \"POST /score HTTP/1.1\" 200 -\n",
      "127.0.0.1 - - [24/Oct/2019 11:56:52] \"POST /score HTTP/1.1\" 200 -\n",
      "127.0.0.1 - - [24/Oct/2019 11:56:52] \"POST /score HTTP/1.1\" 200 -\n",
      "127.0.0.1 - - [24/Oct/2019 11:57:02] \"POST /score HTTP/1.1\" 200 -\n",
      "127.0.0.1 - - [24/Oct/2019 11:57:02] \"POST /score HTTP/1.1\" 200 -\n",
      "127.0.0.1 - - [24/Oct/2019 11:57:02] \"POST /score HTTP/1.1\" 200 -\n",
      "127.0.0.1 - - [24/Oct/2019 11:57:02] \"POST /score HTTP/1.1\" 200 -\n",
      "127.0.0.1 - - [24/Oct/2019 11:57:02] \"POST /score HTTP/1.1\" 200 -\n",
      "127.0.0.1 - - [24/Oct/2019 11:57:02] \"POST /score HTTP/1.1\" 200 -\n",
      "127.0.0.1 - - [24/Oct/2019 11:57:02] \"POST /score HTTP/1.1\" 200 -\n",
      "127.0.0.1 - - [24/Oct/2019 11:57:02] \"POST /score HTTP/1.1\" 200 -\n",
      "127.0.0.1 - - [24/Oct/2019 11:57:02] \"POST /score HTTP/1.1\" 200 -\n",
      "127.0.0.1 - - [24/Oct/2019 11:57:03] \"POST /score HTTP/1.1\" 200 -\n",
      "127.0.0.1 - - [24/Oct/2019 11:57:03] \"POST /score HTTP/1.1\" 200 -\n",
      "127.0.0.1 - - [24/Oct/2019 11:57:03] \"POST /score HTTP/1.1\" 200 -\n",
      "127.0.0.1 - - [24/Oct/2019 11:57:03] \"POST /score HTTP/1.1\" 200 -\n",
      "127.0.0.1 - - [24/Oct/2019 11:57:03] \"POST /score HTTP/1.1\" 200 -\n",
      "127.0.0.1 - - [24/Oct/2019 11:57:03] \"POST /score HTTP/1.1\" 200 -\n",
      "127.0.0.1 - - [24/Oct/2019 11:57:03] \"POST /score HTTP/1.1\" 200 -\n",
      "127.0.0.1 - - [24/Oct/2019 11:57:03] \"POST /score HTTP/1.1\" 200 -\n",
      "127.0.0.1 - - [24/Oct/2019 11:57:04] \"POST /score HTTP/1.1\" 200 -\n",
      "127.0.0.1 - - [24/Oct/2019 11:57:04] \"POST /score HTTP/1.1\" 200 -\n",
      "127.0.0.1 - - [24/Oct/2019 11:57:04] \"POST /score HTTP/1.1\" 200 -\n",
      "127.0.0.1 - - [24/Oct/2019 11:57:04] \"POST /score HTTP/1.1\" 200 -\n",
      "127.0.0.1 - - [24/Oct/2019 11:57:04] \"POST /score HTTP/1.1\" 200 -\n",
      "127.0.0.1 - - [24/Oct/2019 11:57:04] \"POST /score HTTP/1.1\" 200 -\n",
      "127.0.0.1 - - [24/Oct/2019 11:57:04] \"POST /score HTTP/1.1\" 200 -\n",
      "127.0.0.1 - - [24/Oct/2019 11:57:05] \"POST /score HTTP/1.1\" 200 -\n"
     ]
    }
   ],
   "source": [
    "#--------- RUN WEB APP SERVER ------------#\n",
    "\n",
    "# Start the app server on port 80\n",
    "# (The default website port)\n",
    "if __name__ == '__main__':\n",
    "    app.run()"
   ]
  },
  {
   "cell_type": "code",
   "execution_count": null,
   "metadata": {
    "collapsed": true
   },
   "outputs": [],
   "source": []
  }
 ],
 "metadata": {
  "kernelspec": {
   "display_name": "Python 2",
   "language": "python",
   "name": "python2"
  },
  "language_info": {
   "codemirror_mode": {
    "name": "ipython",
    "version": 2
   },
   "file_extension": ".py",
   "mimetype": "text/x-python",
   "name": "python",
   "nbconvert_exporter": "python",
   "pygments_lexer": "ipython2",
   "version": "2.7.13"
  }
 },
 "nbformat": 4,
 "nbformat_minor": 2
}
